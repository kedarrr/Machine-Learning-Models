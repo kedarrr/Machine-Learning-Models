{
  "nbformat": 4,
  "nbformat_minor": 0,
  "metadata": {
    "colab": {
      "provenance": []
    },
    "kernelspec": {
      "name": "python3",
      "display_name": "Python 3"
    },
    "language_info": {
      "name": "python"
    }
  },
  "cells": [
    {
      "cell_type": "code",
      "execution_count": null,
      "metadata": {
        "id": "fjWONkilS_TQ"
      },
      "outputs": [],
      "source": [
        "import matplotlib.pyplot as plt\n",
        "from sklearn.model_selection import train_test_split\n",
        "from sklearn import linear_model\n",
        "from sklearn.datasets import load_digits"
      ]
    },
    {
      "cell_type": "code",
      "source": [
        "digits = load_digits()"
      ],
      "metadata": {
        "id": "10CZ9dQAUAJm"
      },
      "execution_count": null,
      "outputs": []
    },
    {
      "cell_type": "code",
      "source": [
        "dir(digits)"
      ],
      "metadata": {
        "colab": {
          "base_uri": "https://localhost:8080/"
        },
        "id": "eCMn8uVkUbis",
        "outputId": "f04a264c-aee5-497c-b4b5-ffe38d8a8e1c"
      },
      "execution_count": null,
      "outputs": [
        {
          "output_type": "execute_result",
          "data": {
            "text/plain": [
              "['DESCR', 'data', 'feature_names', 'frame', 'images', 'target', 'target_names']"
            ]
          },
          "metadata": {},
          "execution_count": 5
        }
      ]
    },
    {
      "cell_type": "code",
      "source": [
        "digits.data[0]"
      ],
      "metadata": {
        "colab": {
          "base_uri": "https://localhost:8080/"
        },
        "id": "vrGese4fUfxW",
        "outputId": "4fc1d9e5-1435-4f4e-ffeb-a51b347e51bb"
      },
      "execution_count": null,
      "outputs": [
        {
          "output_type": "execute_result",
          "data": {
            "text/plain": [
              "array([ 0.,  0.,  5., 13.,  9.,  1.,  0.,  0.,  0.,  0., 13., 15., 10.,\n",
              "       15.,  5.,  0.,  0.,  3., 15.,  2.,  0., 11.,  8.,  0.,  0.,  4.,\n",
              "       12.,  0.,  0.,  8.,  8.,  0.,  0.,  5.,  8.,  0.,  0.,  9.,  8.,\n",
              "        0.,  0.,  4., 11.,  0.,  1., 12.,  7.,  0.,  0.,  2., 14.,  5.,\n",
              "       10., 12.,  0.,  0.,  0.,  0.,  6., 13., 10.,  0.,  0.,  0.])"
            ]
          },
          "metadata": {},
          "execution_count": 7
        }
      ]
    },
    {
      "cell_type": "code",
      "source": [
        "plt.gray()\n",
        "plt.matshow(digits.images[0])"
      ],
      "metadata": {
        "colab": {
          "base_uri": "https://localhost:8080/",
          "height": 310
        },
        "id": "a3o7cFu2U4b6",
        "outputId": "f8112dee-b896-4862-968d-a0350609372c"
      },
      "execution_count": null,
      "outputs": [
        {
          "output_type": "execute_result",
          "data": {
            "text/plain": [
              "<matplotlib.image.AxesImage at 0x7f7847ccf610>"
            ]
          },
          "metadata": {},
          "execution_count": 9
        },
        {
          "output_type": "display_data",
          "data": {
            "text/plain": [
              "<Figure size 432x288 with 0 Axes>"
            ]
          },
          "metadata": {}
        },
        {
          "output_type": "display_data",
          "data": {
            "text/plain": [
              "<Figure size 288x288 with 1 Axes>"
            ],
            "image/png": "[encoded data removed]"
          },
          "metadata": {
            "needs_background": "light"
          }
        }
      ]
    },
    {
      "cell_type": "code",
      "source": [
        "x_train,x_test,y_train,y_test = train_test_split(digits.data,digits.target,test_size=0.2)"
      ],
      "metadata": {
        "id": "8a9Pobj0VNtB"
      },
      "execution_count": null,
      "outputs": []
    },
    {
      "cell_type": "code",
      "source": [
        "log = linear_model.LogisticRegression()"
      ],
      "metadata": {
        "id": "M4LeVNkcWBTp"
      },
      "execution_count": null,
      "outputs": []
    },
    {
      "cell_type": "code",
      "source": [
        "log.fit(x_train,y_train)"
      ],
      "metadata": {
        "colab": {
          "base_uri": "https://localhost:8080/"
        },
        "id": "1_M_IdvyWJ0D",
        "outputId": "3813e18a-9cdc-44da-f64e-b1cca96655e7"
      },
      "execution_count": null,
      "outputs": [
        {
          "output_type": "stream",
          "name": "stderr",
          "text": [
            "/usr/local/lib/python3.7/dist-packages/sklearn/linear_model/_logistic.py:818: ConvergenceWarning: lbfgs failed to converge (status=1):\n",
            "STOP: TOTAL NO. of ITERATIONS REACHED LIMIT.\n",
            "\n",
            "Increase the number of iterations (max_iter) or scale the data as shown in:\n",
            "    https://scikit-learn.org/stable/modules/preprocessing.html\n",
            "Please also refer to the documentation for alternative solver options:\n",
            "    https://scikit-learn.org/stable/modules/linear_model.html#logistic-regression\n",
            "  extra_warning_msg=_LOGISTIC_SOLVER_CONVERGENCE_MSG,\n"
          ]
        },
        {
          "output_type": "execute_result",
          "data": {
            "text/plain": [
              "LogisticRegression()"
            ]
          },
          "metadata": {},
          "execution_count": 12
        }
      ]
    },
    {
      "cell_type": "code",
      "source": [
        "log.predict(x_test)"
      ],
      "metadata": {
        "colab": {
          "base_uri": "https://localhost:8080/"
        },
        "id": "zctj4AyxWOwP",
        "outputId": "0111d3b7-a2d8-4040-e900-2c1ddd398f24"
      },
      "execution_count": null,
      "outputs": [
        {
          "output_type": "execute_result",
          "data": {
            "text/plain": [
              "array([1, 2, 6, 6, 6, 2, 2, 5, 0, 0, 4, 6, 8, 4, 4, 1, 6, 9, 6, 8, 5, 4,\n",
              "       6, 7, 2, 3, 1, 9, 0, 7, 9, 0, 5, 2, 7, 5, 3, 0, 4, 1, 2, 8, 3, 8,\n",
              "       3, 5, 8, 3, 0, 0, 1, 4, 7, 2, 7, 4, 8, 4, 2, 9, 6, 2, 5, 1, 1, 3,\n",
              "       3, 9, 5, 9, 0, 4, 0, 2, 2, 7, 6, 6, 4, 9, 6, 7, 1, 9, 0, 8, 0, 8,\n",
              "       8, 9, 6, 1, 0, 6, 7, 4, 6, 1, 4, 4, 5, 9, 5, 5, 1, 2, 3, 7, 7, 7,\n",
              "       7, 6, 9, 8, 7, 9, 6, 1, 0, 2, 5, 1, 6, 7, 2, 7, 3, 7, 4, 9, 9, 0,\n",
              "       6, 9, 1, 1, 8, 4, 5, 7, 7, 6, 7, 6, 3, 3, 9, 3, 4, 4, 8, 0, 5, 2,\n",
              "       3, 8, 7, 9, 4, 3, 6, 6, 4, 8, 9, 0, 1, 1, 7, 4, 9, 4, 8, 2, 5, 9,\n",
              "       4, 6, 6, 3, 6, 7, 3, 5, 8, 8, 3, 8, 8, 8, 5, 5, 3, 1, 2, 5, 4, 0,\n",
              "       2, 8, 3, 3, 1, 4, 7, 0, 1, 6, 5, 3, 7, 8, 2, 0, 7, 5, 3, 6, 5, 2,\n",
              "       3, 5, 9, 4, 5, 8, 6, 5, 8, 1, 0, 9, 4, 6, 3, 0, 4, 0, 4, 2, 9, 0,\n",
              "       5, 6, 2, 2, 6, 7, 6, 5, 2, 2, 1, 7, 1, 1, 0, 3, 5, 3, 9, 2, 0, 2,\n",
              "       3, 6, 2, 4, 2, 4, 3, 5, 7, 5, 7, 2, 1, 4, 7, 5, 3, 2, 9, 2, 7, 9,\n",
              "       0, 3, 8, 1, 1, 5, 9, 7, 6, 2, 7, 2, 9, 1, 1, 0, 8, 5, 2, 9, 8, 9,\n",
              "       7, 0, 0, 9, 4, 6, 5, 2, 1, 1, 4, 5, 9, 9, 7, 9, 0, 0, 4, 5, 5, 5,\n",
              "       6, 8, 0, 8, 0, 6, 6, 4, 8, 1, 1, 0, 2, 7, 1, 7, 7, 5, 3, 0, 3, 3,\n",
              "       8, 6, 4, 4, 8, 2, 4, 2])"
            ]
          },
          "metadata": {},
          "execution_count": 13
        }
      ]
    },
    {
      "cell_type": "code",
      "source": [
        "log.score(x_test,y_test)"
      ],
      "metadata": {
        "colab": {
          "base_uri": "https://localhost:8080/"
        },
        "id": "j2Kl04taWTzF",
        "outputId": "d0aa344a-dc6e-4f8d-fc33-14ab46e3316b"
      },
      "execution_count": null,
      "outputs": [
        {
          "output_type": "execute_result",
          "data": {
            "text/plain": [
              "0.9611111111111111"
            ]
          },
          "metadata": {},
          "execution_count": 14
        }
      ]
    },
    {
      "cell_type": "code",
      "source": [
        "plt.matshow(digits.images[67])"
      ],
      "metadata": {
        "colab": {
          "base_uri": "https://localhost:8080/",
          "height": 292
        },
        "id": "y_ewslR7WY-s",
        "outputId": "82eb36b3-d040-43d8-8e4b-3a09cd1a9b34"
      },
      "execution_count": null,
      "outputs": [
        {
          "output_type": "execute_result",
          "data": {
            "text/plain": [
              "<matplotlib.image.AxesImage at 0x7f7846c40910>"
            ]
          },
          "metadata": {},
          "execution_count": 15
        },
        {
          "output_type": "display_data",
          "data": {
            "text/plain": [
              "<Figure size 288x288 with 1 Axes>"
            ],
            "image/png": "[encoded data removed]"
          },
          "metadata": {
            "needs_background": "light"
          }
        }
      ]
    },
    {
      "cell_type": "code",
      "source": [
        "digits.target[67]"
      ],
      "metadata": {
        "colab": {
          "base_uri": "https://localhost:8080/"
        },
        "id": "V5Dy5GSxWtdU",
        "outputId": "afa61e22-dc61-4efc-e7dc-3ce5a4becff1"
      },
      "execution_count": null,
      "outputs": [
        {
          "output_type": "execute_result",
          "data": {
            "text/plain": [
              "6"
            ]
          },
          "metadata": {},
          "execution_count": 16
        }
      ]
    },
    {
      "cell_type": "code",
      "source": [],
      "metadata": {
        "id": "IOcMc3L9WyvI"
      },
      "execution_count": null,
      "outputs": []
    }
  ]
}